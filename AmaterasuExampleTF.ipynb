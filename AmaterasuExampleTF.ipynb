{
 "cells": [
  {
   "cell_type": "code",
   "execution_count": 1,
   "metadata": {},
   "outputs": [
    {
     "name": "stderr",
     "output_type": "stream",
     "text": [
      "Using TensorFlow backend.\n"
     ]
    }
   ],
   "source": [
    "import pandas as pd\n",
    "import numpy as np\n",
    "\n",
    "import keras\n",
    "\n",
    "from keras.models import Sequential\n",
    "from keras.layers import Dense, Dropout,Flatten, Conv2D, MaxPooling2D,BatchNormalization,Activation\n"
   ]
  },
  {
   "cell_type": "code",
   "execution_count": 2,
   "metadata": {
    "collapsed": true
   },
   "outputs": [],
   "source": [
    "# Init\n",
    "batch_size = 32\n",
    "num_classes = 10\n",
    "epochs = 10\n",
    "\n",
    "np.random.seed(200) # For replications"
   ]
  },
  {
   "cell_type": "code",
   "execution_count": 3,
   "metadata": {
    "collapsed": true
   },
   "outputs": [],
   "source": [
    "# Get data\n",
    "train_data = pd.read_csv('mnist_train.csv',header=None)\n",
    "test_data = pd.read_csv('mnist_test.csv',header=None)\n"
   ]
  },
  {
   "cell_type": "code",
   "execution_count": 4,
   "metadata": {
    "collapsed": true
   },
   "outputs": [],
   "source": [
    "train_y = train_data.iloc[:,0].values\n",
    "test_y = test_data.iloc[:,0].values"
   ]
  },
  {
   "cell_type": "code",
   "execution_count": 5,
   "metadata": {
    "collapsed": true
   },
   "outputs": [],
   "source": [
    "train_X = train_data.iloc[:,1:].values\n",
    "test_X = test_data.iloc[:,1:].values"
   ]
  },
  {
   "cell_type": "code",
   "execution_count": 7,
   "metadata": {},
   "outputs": [],
   "source": [
    "train_X = train_X.astype('float32')/255\n",
    "test_X = test_X.astype('float32')/255"
   ]
  },
  {
   "cell_type": "code",
   "execution_count": 10,
   "metadata": {
    "collapsed": true
   },
   "outputs": [],
   "source": [
    "train_X = train_X.reshape(train_X.shape[0], 28, 28, 1)\n",
    "test_X = test_X.reshape(test_X.shape[0], 28, 28, 1)"
   ]
  },
  {
   "cell_type": "code",
   "execution_count": 14,
   "metadata": {},
   "outputs": [],
   "source": [
    "# Convert class vectors to 1-hot representations\n",
    "\n",
    "train_y = keras.utils.to_categorical(train_y, num_classes)\n",
    "test_y = keras.utils.to_categorical(test_y, num_classes)\n"
   ]
  },
  {
   "cell_type": "code",
   "execution_count": 15,
   "metadata": {},
   "outputs": [],
   "source": [
    "# Model Architecture\n",
    "\n",
    "model = Sequential()\n",
    "\n",
    "model.add(Conv2D(32, (5, 5), input_shape=(28, 28, 1), activation='relu'))\n",
    "model.add(MaxPooling2D(pool_size=(2, 2)))\n",
    "model.add(Dropout(0.2))\n",
    "model.add(Flatten())\n",
    "model.add(Dense(128, activation='relu'))\n",
    "model.add(Dense(50, activation='relu'))\n",
    "model.add(Dense(num_classes, activation='softmax'))\n"
   ]
  },
  {
   "cell_type": "code",
   "execution_count": 16,
   "metadata": {},
   "outputs": [
    {
     "name": "stdout",
     "output_type": "stream",
     "text": [
      "_________________________________________________________________\n",
      "Layer (type)                 Output Shape              Param #   \n",
      "=================================================================\n",
      "conv2d_1 (Conv2D)            (None, 24, 24, 32)        832       \n",
      "_________________________________________________________________\n",
      "max_pooling2d_1 (MaxPooling2 (None, 12, 12, 32)        0         \n",
      "_________________________________________________________________\n",
      "dropout_1 (Dropout)          (None, 12, 12, 32)        0         \n",
      "_________________________________________________________________\n",
      "flatten_1 (Flatten)          (None, 4608)              0         \n",
      "_________________________________________________________________\n",
      "dense_1 (Dense)              (None, 128)               589952    \n",
      "_________________________________________________________________\n",
      "dense_2 (Dense)              (None, 50)                6450      \n",
      "_________________________________________________________________\n",
      "dense_3 (Dense)              (None, 10)                510       \n",
      "=================================================================\n",
      "Total params: 597,744\n",
      "Trainable params: 597,744\n",
      "Non-trainable params: 0\n",
      "_________________________________________________________________\n"
     ]
    }
   ],
   "source": [
    "# Display model stracture\n",
    "model.summary()\n"
   ]
  },
  {
   "cell_type": "code",
   "execution_count": null,
   "metadata": {},
   "outputs": [],
   "source": []
  },
  {
   "cell_type": "code",
   "execution_count": 17,
   "metadata": {},
   "outputs": [],
   "source": [
    "# Compile the model\n",
    "model.compile(loss='categorical_crossentropy', optimizer='adam', metrics=['accuracy'])"
   ]
  },
  {
   "cell_type": "code",
   "execution_count": 21,
   "metadata": {},
   "outputs": [
    {
     "name": "stdout",
     "output_type": "stream",
     "text": [
      "Train on 60000 samples, validate on 10000 samples\n",
      "Epoch 1/10\n",
      "60000/60000 [==============================] - 185s - loss: 0.0238 - acc: 0.9927 - val_loss: 0.0575 - val_acc: 0.9849\n",
      "Epoch 2/10\n",
      "60000/60000 [==============================] - 163s - loss: 0.0242 - acc: 0.9923 - val_loss: 0.0441 - val_acc: 0.9892\n",
      "Epoch 3/10\n",
      "60000/60000 [==============================] - 30104s - loss: 0.0200 - acc: 0.9938 - val_loss: 0.0446 - val_acc: 0.9883\n",
      "Epoch 4/10\n",
      "60000/60000 [==============================] - 175s - loss: 0.0189 - acc: 0.9941 - val_loss: 0.0490 - val_acc: 0.9881\n",
      "Epoch 5/10\n",
      "60000/60000 [==============================] - 110s - loss: 0.0177 - acc: 0.9944 - val_loss: 0.0521 - val_acc: 0.9867\n",
      "Epoch 6/10\n",
      "60000/60000 [==============================] - 99s - loss: 0.0153 - acc: 0.9953 - val_loss: 0.0506 - val_acc: 0.9896\n",
      "Epoch 7/10\n",
      "60000/60000 [==============================] - 103s - loss: 0.0160 - acc: 0.9953 - val_loss: 0.0673 - val_acc: 0.9866\n",
      "Epoch 8/10\n",
      "60000/60000 [==============================] - 100s - loss: 0.0131 - acc: 0.9960 - val_loss: 0.0772 - val_acc: 0.9869\n",
      "Epoch 9/10\n",
      "60000/60000 [==============================] - 99s - loss: 0.0163 - acc: 0.9957 - val_loss: 0.0488 - val_acc: 0.9902\n",
      "Epoch 10/10\n",
      "60000/60000 [==============================] - 117s - loss: 0.0153 - acc: 0.9957 - val_loss: 0.0707 - val_acc: 0.9874\n"
     ]
    }
   ],
   "source": [
    "# Train it on data\n",
    "history = model.fit(train_X, train_y,\n",
    "                    batch_size=batch_size,\n",
    "                    epochs=epochs,\n",
    "                    verbose=1,\n",
    "                    validation_data=(test_X, test_y))"
   ]
  },
  {
   "cell_type": "code",
   "execution_count": 22,
   "metadata": {},
   "outputs": [
    {
     "name": "stdout",
     "output_type": "stream",
     "text": [
      "Test accuracy: 0.9874\n"
     ]
    }
   ],
   "source": [
    "# Calculate results on test data\n",
    "score = model.evaluate(test_X, test_y, verbose=0)\n",
    "print('Test accuracy:', score[1])\n",
    "print('Test error:' , str(1-score[1]))"
   ]
  },
  {
   "cell_type": "code",
   "execution_count": null,
   "metadata": {
    "collapsed": true
   },
   "outputs": [],
   "source": []
  },
  {
   "cell_type": "code",
   "execution_count": null,
   "metadata": {
    "collapsed": true
   },
   "outputs": [],
   "source": []
  },
  {
   "cell_type": "code",
   "execution_count": null,
   "metadata": {
    "collapsed": true
   },
   "outputs": [],
   "source": []
  }
 ],
 "metadata": {
  "kernelspec": {
   "display_name": "Python 3",
   "language": "python",
   "name": "python3"
  },
  "language_info": {
   "codemirror_mode": {
    "name": "ipython",
    "version": 3
   },
   "file_extension": ".py",
   "mimetype": "text/x-python",
   "name": "python",
   "nbconvert_exporter": "python",
   "pygments_lexer": "ipython3",
   "version": "3.6.2"
  }
 },
 "nbformat": 4,
 "nbformat_minor": 2
}
